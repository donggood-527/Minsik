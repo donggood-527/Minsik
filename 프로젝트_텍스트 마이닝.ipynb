{
 "cells": [
  {
   "cell_type": "code",
   "execution_count": 16,
   "metadata": {},
   "outputs": [],
   "source": [
    "import pandas as pd"
   ]
  },
  {
   "cell_type": "code",
   "execution_count": 17,
   "metadata": {},
   "outputs": [],
   "source": [
    "df = pd.read_csv('blog_crawling.csv')"
   ]
  },
  {
   "cell_type": "code",
   "execution_count": 18,
   "metadata": {},
   "outputs": [],
   "source": [
    "import re\n",
    "\n",
    "def pre_process(text):\n",
    "    # 특수 기호 삭제\n",
    "    text = re.sub('[^a-zA-z0-9가-힣ㄱ-ㅎㅏ-ㅣ.,\"\"\"%@]', '',text).strip()\n",
    "    # 이메일 등장하면, 그 뒷문장 모두 삭제\n",
    "    text = re.sub('[a-zA-Z0-9] + \\@[a-zA-Z0-9]+\\.[a-z]{1,3}.[a-z]{1,3}.+', '',text).strip()\n",
    "    text = text.replace('\\d+', '')\n",
    "    \n",
    "    return text"
   ]
  },
  {
   "cell_type": "code",
   "execution_count": 19,
   "metadata": {},
   "outputs": [
    {
     "data": {
      "text/html": [
       "<div>\n",
       "<style scoped>\n",
       "    .dataframe tbody tr th:only-of-type {\n",
       "        vertical-align: middle;\n",
       "    }\n",
       "\n",
       "    .dataframe tbody tr th {\n",
       "        vertical-align: top;\n",
       "    }\n",
       "\n",
       "    .dataframe thead th {\n",
       "        text-align: right;\n",
       "    }\n",
       "</style>\n",
       "<table border=\"1\" class=\"dataframe\">\n",
       "  <thead>\n",
       "    <tr style=\"text-align: right;\">\n",
       "      <th></th>\n",
       "      <th>author</th>\n",
       "      <th>title</th>\n",
       "      <th>content</th>\n",
       "      <th>tokens</th>\n",
       "    </tr>\n",
       "  </thead>\n",
       "  <tbody>\n",
       "    <tr>\n",
       "      <td>0</td>\n",
       "      <td>네이버 법률</td>\n",
       "      <td>'민식이법' 촉발 40대 운전자에 금고 2년…처벌 더 무거워진다</td>\n",
       "      <td>그러나법시행이후에도운전자에게지나치게불리한내용이라는민식이법논란은계속되고있습니다.A씨에...</td>\n",
       "      <td>그러나,지나치,불리,라는,논란,계속,집행유예,아닌,실형,선고,지나치</td>\n",
       "    </tr>\n",
       "    <tr>\n",
       "      <td>1</td>\n",
       "      <td>달콤쉬럽</td>\n",
       "      <td>김포 스쿨존서 무면허·과속운전으로 민식이법 첫구속</td>\n",
       "      <td>민식이법은지난해9월충남아산의한초등학교스쿨존에서교통사고로사망한고김민식사망당시9세군사건...</td>\n",
       "      <td>지난해,초등,학교,세군,사건,계기,됐으며</td>\n",
       "    </tr>\n",
       "    <tr>\n",
       "      <td>2</td>\n",
       "      <td>노게임 - nogame</td>\n",
       "      <td>25일 시행되는 민식이법 내용 정리</td>\n",
       "      <td>민식이를숨지게했던사건,민식이법이생기게된사건에대해서잠깐적어보겠습니다.운전자A씨는시속2...</td>\n",
       "      <td>숨지,사건,생기,사건,대해서,잠깐,시속,23,km,주행,반대편,차선,신호,기다리</td>\n",
       "    </tr>\n",
       "    <tr>\n",
       "      <td>3</td>\n",
       "      <td>쉼표가 있는 대중교...</td>\n",
       "      <td>'민식이법'에 부담 느낀 버스기사들, 스쿨존 버스노선 제외</td>\n",
       "      <td>일명민식이법에부담을느낀버스기사들의요청으로스쿨존통과버스노선을변경하기로했습니다.지난6일...</td>\n",
       "      <td>부담,느낀,버스,기사,요청,통과,버스,노선,변경,지난,부담,스러워,버스,기사,요청</td>\n",
       "    </tr>\n",
       "    <tr>\n",
       "      <td>4</td>\n",
       "      <td>원자력안전위원회 공식블로...</td>\n",
       "      <td>민식이법, 어린이보호구역 강화 대책 본격 추진</td>\n",
       "      <td>민식이법2019년9월충남아산의한어린이보호구역에서사망한김민식군사고이후발의되어2020년...</td>\n",
       "      <td>보호,발의,법안,법안</td>\n",
       "    </tr>\n",
       "  </tbody>\n",
       "</table>\n",
       "</div>"
      ],
      "text/plain": [
       "             author                                title  \\\n",
       "0            네이버 법률  '민식이법' 촉발 40대 운전자에 금고 2년…처벌 더 무거워진다   \n",
       "1              달콤쉬럽          김포 스쿨존서 무면허·과속운전으로 민식이법 첫구속   \n",
       "2      노게임 - nogame                  25일 시행되는 민식이법 내용 정리   \n",
       "3     쉼표가 있는 대중교...     '민식이법'에 부담 느낀 버스기사들, 스쿨존 버스노선 제외   \n",
       "4  원자력안전위원회 공식블로...            민식이법, 어린이보호구역 강화 대책 본격 추진   \n",
       "\n",
       "                                             content  \\\n",
       "0  그러나법시행이후에도운전자에게지나치게불리한내용이라는민식이법논란은계속되고있습니다.A씨에...   \n",
       "1  민식이법은지난해9월충남아산의한초등학교스쿨존에서교통사고로사망한고김민식사망당시9세군사건...   \n",
       "2  민식이를숨지게했던사건,민식이법이생기게된사건에대해서잠깐적어보겠습니다.운전자A씨는시속2...   \n",
       "3  일명민식이법에부담을느낀버스기사들의요청으로스쿨존통과버스노선을변경하기로했습니다.지난6일...   \n",
       "4  민식이법2019년9월충남아산의한어린이보호구역에서사망한김민식군사고이후발의되어2020년...   \n",
       "\n",
       "                                          tokens  \n",
       "0          그러나,지나치,불리,라는,논란,계속,집행유예,아닌,실형,선고,지나치  \n",
       "1                         지난해,초등,학교,세군,사건,계기,됐으며  \n",
       "2   숨지,사건,생기,사건,대해서,잠깐,시속,23,km,주행,반대편,차선,신호,기다리  \n",
       "3  부담,느낀,버스,기사,요청,통과,버스,노선,변경,지난,부담,스러워,버스,기사,요청  \n",
       "4                                    보호,발의,법안,법안  "
      ]
     },
     "execution_count": 19,
     "metadata": {},
     "output_type": "execute_result"
    }
   ],
   "source": [
    "df['content'] = df['content'].map(lambda x : pre_process(x))\n",
    "df.head()"
   ]
  },
  {
   "cell_type": "code",
   "execution_count": 20,
   "metadata": {},
   "outputs": [],
   "source": [
    "stop_word = ['식이', '에서', '습니다', '어린이', '으로', '이법', '충남', '이민식', '에게' \n",
    "             '아산', '스쿨', '2019', '25', '부터', '입니다', '김민식', '는데요', '..', '당시', '특정', '이후',\n",
    "             '내용', '합니다', '부산', '지만', '해운대', '라고', '다는', '서민식', '고민식', '사고', '이보호',\n",
    "            '운전자', '다고', '때문', '교통사고', '시행', '보호구역', '적용', '에게', '부모', '이름', '아이', '요즘',\n",
    "             '사례', '는데', '따라', '대한', '이법이', '도록', '아니', '만들', '사망', '구역', '교통', '어린', '국회'\n",
    "            ,'아산', '2020', '30', '...', '올해', '세요', '법안', '통과', '발의']\n",
    "from konlpy.tag import Mecab\n",
    "def postagging_mecab(text):\n",
    "    mecab = Mecab()\n",
    "    text = mecab.morphs(text)\n",
    "    text = [i for i in text if len(i)>1]\n",
    "    text = [i for i in text if i not in stop_word]\n",
    "    return text"
   ]
  },
  {
   "cell_type": "code",
   "execution_count": 21,
   "metadata": {},
   "outputs": [],
   "source": [
    "def make_tokens(df,filename):\n",
    "    df['tokens'] = ''\n",
    "    tokens_list=[]\n",
    "    for i, row in df.iterrows():\n",
    "        if i%100==0:\n",
    "            print(i,'/',len(df))\n",
    "        token = postagging_mecab(df['content'][i])\n",
    "        df['tokens'][i] = ','.join(token)\n",
    "    df.to_csv(filename,index = False)\n",
    "    return df"
   ]
  },
  {
   "cell_type": "code",
   "execution_count": 22,
   "metadata": {},
   "outputs": [
    {
     "name": "stdout",
     "output_type": "stream",
     "text": [
      "0 / 500\n",
      "100 / 500\n",
      "200 / 500\n",
      "300 / 500\n",
      "400 / 500\n"
     ]
    }
   ],
   "source": [
    "df = make_tokens(df,'blog_crawling.csv')"
   ]
  },
  {
   "cell_type": "code",
   "execution_count": 23,
   "metadata": {},
   "outputs": [
    {
     "data": {
      "text/html": [
       "<div>\n",
       "<style scoped>\n",
       "    .dataframe tbody tr th:only-of-type {\n",
       "        vertical-align: middle;\n",
       "    }\n",
       "\n",
       "    .dataframe tbody tr th {\n",
       "        vertical-align: top;\n",
       "    }\n",
       "\n",
       "    .dataframe thead th {\n",
       "        text-align: right;\n",
       "    }\n",
       "</style>\n",
       "<table border=\"1\" class=\"dataframe\">\n",
       "  <thead>\n",
       "    <tr style=\"text-align: right;\">\n",
       "      <th></th>\n",
       "      <th>author</th>\n",
       "      <th>title</th>\n",
       "      <th>content</th>\n",
       "      <th>tokens</th>\n",
       "    </tr>\n",
       "  </thead>\n",
       "  <tbody>\n",
       "    <tr>\n",
       "      <td>0</td>\n",
       "      <td>네이버 법률</td>\n",
       "      <td>'민식이법' 촉발 40대 운전자에 금고 2년…처벌 더 무거워진다</td>\n",
       "      <td>그러나법시행이후에도운전자에게지나치게불리한내용이라는민식이법논란은계속되고있습니다.A씨에...</td>\n",
       "      <td>그러나,지나치,불리,라는,논란,계속,집행유예,아닌,실형,선고,지나치</td>\n",
       "    </tr>\n",
       "    <tr>\n",
       "      <td>1</td>\n",
       "      <td>달콤쉬럽</td>\n",
       "      <td>김포 스쿨존서 무면허·과속운전으로 민식이법 첫구속</td>\n",
       "      <td>민식이법은지난해9월충남아산의한초등학교스쿨존에서교통사고로사망한고김민식사망당시9세군사건...</td>\n",
       "      <td>지난해,초등,학교,세군,사건,계기,됐으며</td>\n",
       "    </tr>\n",
       "    <tr>\n",
       "      <td>2</td>\n",
       "      <td>노게임 - nogame</td>\n",
       "      <td>25일 시행되는 민식이법 내용 정리</td>\n",
       "      <td>민식이를숨지게했던사건,민식이법이생기게된사건에대해서잠깐적어보겠습니다.운전자A씨는시속2...</td>\n",
       "      <td>숨지,사건,생기,사건,대해서,잠깐,시속,23,km,주행,반대편,차선,신호,기다리</td>\n",
       "    </tr>\n",
       "    <tr>\n",
       "      <td>3</td>\n",
       "      <td>쉼표가 있는 대중교...</td>\n",
       "      <td>'민식이법'에 부담 느낀 버스기사들, 스쿨존 버스노선 제외</td>\n",
       "      <td>일명민식이법에부담을느낀버스기사들의요청으로스쿨존통과버스노선을변경하기로했습니다.지난6일...</td>\n",
       "      <td>부담,느낀,버스,기사,요청,버스,노선,변경,지난,부담,스러워,버스,기사,요청</td>\n",
       "    </tr>\n",
       "    <tr>\n",
       "      <td>4</td>\n",
       "      <td>원자력안전위원회 공식블로...</td>\n",
       "      <td>민식이법, 어린이보호구역 강화 대책 본격 추진</td>\n",
       "      <td>민식이법2019년9월충남아산의한어린이보호구역에서사망한김민식군사고이후발의되어2020년...</td>\n",
       "      <td>보호</td>\n",
       "    </tr>\n",
       "  </tbody>\n",
       "</table>\n",
       "</div>"
      ],
      "text/plain": [
       "             author                                title  \\\n",
       "0            네이버 법률  '민식이법' 촉발 40대 운전자에 금고 2년…처벌 더 무거워진다   \n",
       "1              달콤쉬럽          김포 스쿨존서 무면허·과속운전으로 민식이법 첫구속   \n",
       "2      노게임 - nogame                  25일 시행되는 민식이법 내용 정리   \n",
       "3     쉼표가 있는 대중교...     '민식이법'에 부담 느낀 버스기사들, 스쿨존 버스노선 제외   \n",
       "4  원자력안전위원회 공식블로...            민식이법, 어린이보호구역 강화 대책 본격 추진   \n",
       "\n",
       "                                             content  \\\n",
       "0  그러나법시행이후에도운전자에게지나치게불리한내용이라는민식이법논란은계속되고있습니다.A씨에...   \n",
       "1  민식이법은지난해9월충남아산의한초등학교스쿨존에서교통사고로사망한고김민식사망당시9세군사건...   \n",
       "2  민식이를숨지게했던사건,민식이법이생기게된사건에대해서잠깐적어보겠습니다.운전자A씨는시속2...   \n",
       "3  일명민식이법에부담을느낀버스기사들의요청으로스쿨존통과버스노선을변경하기로했습니다.지난6일...   \n",
       "4  민식이법2019년9월충남아산의한어린이보호구역에서사망한김민식군사고이후발의되어2020년...   \n",
       "\n",
       "                                         tokens  \n",
       "0         그러나,지나치,불리,라는,논란,계속,집행유예,아닌,실형,선고,지나치  \n",
       "1                        지난해,초등,학교,세군,사건,계기,됐으며  \n",
       "2  숨지,사건,생기,사건,대해서,잠깐,시속,23,km,주행,반대편,차선,신호,기다리  \n",
       "3    부담,느낀,버스,기사,요청,버스,노선,변경,지난,부담,스러워,버스,기사,요청  \n",
       "4                                            보호  "
      ]
     },
     "execution_count": 23,
     "metadata": {},
     "output_type": "execute_result"
    }
   ],
   "source": [
    "df.head()"
   ]
  },
  {
   "cell_type": "code",
   "execution_count": 24,
   "metadata": {},
   "outputs": [
    {
     "data": {
      "text/html": [
       "<div>\n",
       "<style scoped>\n",
       "    .dataframe tbody tr th:only-of-type {\n",
       "        vertical-align: middle;\n",
       "    }\n",
       "\n",
       "    .dataframe tbody tr th {\n",
       "        vertical-align: top;\n",
       "    }\n",
       "\n",
       "    .dataframe thead th {\n",
       "        text-align: right;\n",
       "    }\n",
       "</style>\n",
       "<table border=\"1\" class=\"dataframe\">\n",
       "  <thead>\n",
       "    <tr style=\"text-align: right;\">\n",
       "      <th></th>\n",
       "      <th>index</th>\n",
       "      <th>total</th>\n",
       "    </tr>\n",
       "  </thead>\n",
       "  <tbody>\n",
       "    <tr>\n",
       "      <td>0</td>\n",
       "      <td>처벌</td>\n",
       "      <td>51</td>\n",
       "    </tr>\n",
       "    <tr>\n",
       "      <td>1</td>\n",
       "      <td>학교</td>\n",
       "      <td>42</td>\n",
       "    </tr>\n",
       "    <tr>\n",
       "      <td>2</td>\n",
       "      <td>개정</td>\n",
       "      <td>41</td>\n",
       "    </tr>\n",
       "    <tr>\n",
       "      <td>3</td>\n",
       "      <td>놀이</td>\n",
       "      <td>39</td>\n",
       "    </tr>\n",
       "    <tr>\n",
       "      <td>4</td>\n",
       "      <td>사건</td>\n",
       "      <td>37</td>\n",
       "    </tr>\n",
       "    <tr>\n",
       "      <td>...</td>\n",
       "      <td>...</td>\n",
       "      <td>...</td>\n",
       "    </tr>\n",
       "    <tr>\n",
       "      <td>2259</td>\n",
       "      <td>이딴</td>\n",
       "      <td>1</td>\n",
       "    </tr>\n",
       "    <tr>\n",
       "      <td>2260</td>\n",
       "      <td>일어난다</td>\n",
       "      <td>1</td>\n",
       "    </tr>\n",
       "    <tr>\n",
       "      <td>2261</td>\n",
       "      <td>미수</td>\n",
       "      <td>1</td>\n",
       "    </tr>\n",
       "    <tr>\n",
       "      <td>2262</td>\n",
       "      <td>라면서</td>\n",
       "      <td>1</td>\n",
       "    </tr>\n",
       "    <tr>\n",
       "      <td>2263</td>\n",
       "      <td>튀어나올</td>\n",
       "      <td>1</td>\n",
       "    </tr>\n",
       "  </tbody>\n",
       "</table>\n",
       "<p>2264 rows × 2 columns</p>\n",
       "</div>"
      ],
      "text/plain": [
       "     index  total\n",
       "0       처벌     51\n",
       "1       학교     42\n",
       "2       개정     41\n",
       "3       놀이     39\n",
       "4       사건     37\n",
       "...    ...    ...\n",
       "2259    이딴      1\n",
       "2260  일어난다      1\n",
       "2261    미수      1\n",
       "2262   라면서      1\n",
       "2263  튀어나올      1\n",
       "\n",
       "[2264 rows x 2 columns]"
      ]
     },
     "execution_count": 24,
     "metadata": {},
     "output_type": "execute_result"
    }
   ],
   "source": [
    "tokens = []\n",
    "for i in range(len(df)):\n",
    "    tokens += df['tokens'][i].split(',')\n",
    "            \n",
    "    \n",
    "total = pd.DataFrame(tokens)\n",
    "total = pd.DataFrame(total[0].value_counts('')).rename(columns={0:'total'})\n",
    "total = total.reset_index()\n",
    "total"
   ]
  },
  {
   "cell_type": "code",
   "execution_count": 25,
   "metadata": {},
   "outputs": [
    {
     "data": {
      "text/plain": [
       "{'처벌': 51,\n",
       " '학교': 42,\n",
       " '개정': 41,\n",
       " '놀이': 39,\n",
       " '사건': 37,\n",
       " '발생': 35,\n",
       " '도로': 35,\n",
       " '관련': 33,\n",
       " '안전': 33,\n",
       " '개정안': 33,\n",
       " '지난': 32,\n",
       " '강화': 30,\n",
       " '중처': 30,\n",
       " '보호': 30,\n",
       " '범죄': 30}"
      ]
     },
     "execution_count": 25,
     "metadata": {},
     "output_type": "execute_result"
    }
   ],
   "source": [
    "keyword = []\n",
    "key_word = []\n",
    "for i in range(len(total)):\n",
    "    if total['total'][i] >= 30:\n",
    "        keyword.append(total['total'][i])\n",
    "        key_word.append(total['index'][i])\n",
    "B = dict(zip(key_word, keyword))\n",
    "B\n"
   ]
  },
  {
   "cell_type": "code",
   "execution_count": 26,
   "metadata": {},
   "outputs": [
    {
     "data": {
      "text/plain": [
       "<matplotlib.image.AxesImage at 0x231ad037a08>"
      ]
     },
     "execution_count": 26,
     "metadata": {},
     "output_type": "execute_result"
    },
    {
     "data": {
      "image/png": "[encoded data removed]",
      "text/plain": [
       "<Figure size 720x576 with 1 Axes>"
      ]
     },
     "metadata": {
      "needs_background": "light"
     },
     "output_type": "display_data"
    }
   ],
   "source": [
    "from wordcloud import WordCloud\n",
    "import matplotlib.pyplot as plt\n",
    "font_path = 'C:\\Windows\\Fonts\\HYGTRE.ttf'\n",
    "wc = WordCloud(font_path = font_path, background_color = 'white', width = 800, height = 600)\n",
    "cloud = wc.generate_from_frequencies(B)\n",
    "plt.figure(figsize=(10, 8))\n",
    "plt.axis('off')\n",
    "plt.imshow(cloud)"
   ]
  },
  {
   "cell_type": "code",
   "execution_count": 28,
   "metadata": {},
   "outputs": [
    {
     "ename": "FileNotFoundError",
     "evalue": "[Errno 2] No such file or directory: '어린이보호구역표지판.png'",
     "output_type": "error",
     "traceback": [
      "\u001b[1;31m---------------------------------------------------------------------------\u001b[0m",
      "\u001b[1;31mFileNotFoundError\u001b[0m                         Traceback (most recent call last)",
      "\u001b[1;32m<ipython-input-28-bf9c150c0776>\u001b[0m in \u001b[0;36m<module>\u001b[1;34m\u001b[0m\n\u001b[0;32m      1\u001b[0m \u001b[1;32mimport\u001b[0m \u001b[0mnumpy\u001b[0m \u001b[1;32mas\u001b[0m \u001b[0mnp\u001b[0m\u001b[1;33m\u001b[0m\u001b[1;33m\u001b[0m\u001b[0m\n\u001b[0;32m      2\u001b[0m \u001b[1;32mimport\u001b[0m \u001b[0mPIL\u001b[0m\u001b[1;33m.\u001b[0m\u001b[0mImage\u001b[0m \u001b[1;32mas\u001b[0m \u001b[0mpilimg\u001b[0m\u001b[1;33m\u001b[0m\u001b[1;33m\u001b[0m\u001b[0m\n\u001b[1;32m----> 3\u001b[1;33m \u001b[0mim\u001b[0m \u001b[1;33m=\u001b[0m \u001b[0mpilimg\u001b[0m\u001b[1;33m.\u001b[0m\u001b[0mopen\u001b[0m\u001b[1;33m(\u001b[0m\u001b[1;34m'어린이보호구역표지판.png'\u001b[0m\u001b[1;33m)\u001b[0m\u001b[1;33m\u001b[0m\u001b[1;33m\u001b[0m\u001b[0m\n\u001b[0m\u001b[0;32m      4\u001b[0m \u001b[0mpix\u001b[0m \u001b[1;33m=\u001b[0m \u001b[0mnp\u001b[0m\u001b[1;33m.\u001b[0m\u001b[0marray\u001b[0m\u001b[1;33m(\u001b[0m\u001b[0mim\u001b[0m\u001b[1;33m)\u001b[0m\u001b[1;33m\u001b[0m\u001b[1;33m\u001b[0m\u001b[0m\n\u001b[0;32m      5\u001b[0m \u001b[1;32mfrom\u001b[0m \u001b[0mwordcloud\u001b[0m \u001b[1;32mimport\u001b[0m \u001b[0mImageColorGenerator\u001b[0m\u001b[1;33m\u001b[0m\u001b[1;33m\u001b[0m\u001b[0m\n",
      "\u001b[1;32mC:\\ProgramData\\Anaconda3\\lib\\site-packages\\PIL\\Image.py\u001b[0m in \u001b[0;36mopen\u001b[1;34m(fp, mode)\u001b[0m\n\u001b[0;32m   2764\u001b[0m \u001b[1;33m\u001b[0m\u001b[0m\n\u001b[0;32m   2765\u001b[0m     \u001b[1;32mif\u001b[0m \u001b[0mfilename\u001b[0m\u001b[1;33m:\u001b[0m\u001b[1;33m\u001b[0m\u001b[1;33m\u001b[0m\u001b[0m\n\u001b[1;32m-> 2766\u001b[1;33m         \u001b[0mfp\u001b[0m \u001b[1;33m=\u001b[0m \u001b[0mbuiltins\u001b[0m\u001b[1;33m.\u001b[0m\u001b[0mopen\u001b[0m\u001b[1;33m(\u001b[0m\u001b[0mfilename\u001b[0m\u001b[1;33m,\u001b[0m \u001b[1;34m\"rb\"\u001b[0m\u001b[1;33m)\u001b[0m\u001b[1;33m\u001b[0m\u001b[1;33m\u001b[0m\u001b[0m\n\u001b[0m\u001b[0;32m   2767\u001b[0m         \u001b[0mexclusive_fp\u001b[0m \u001b[1;33m=\u001b[0m \u001b[1;32mTrue\u001b[0m\u001b[1;33m\u001b[0m\u001b[1;33m\u001b[0m\u001b[0m\n\u001b[0;32m   2768\u001b[0m \u001b[1;33m\u001b[0m\u001b[0m\n",
      "\u001b[1;31mFileNotFoundError\u001b[0m: [Errno 2] No such file or directory: '어린이보호구역표지판.png'"
     ]
    }
   ],
   "source": [
    "import numpy as np\n",
    "import PIL.Image as pilimg\n",
    "im = pilimg.open('어린이보호구역표지판.png')\n",
    "pix = np.array(im)\n",
    "from wordcloud import ImageColorGenerator"
   ]
  },
  {
   "cell_type": "code",
   "execution_count": 29,
   "metadata": {},
   "outputs": [
    {
     "ename": "NameError",
     "evalue": "name 'pix' is not defined",
     "output_type": "error",
     "traceback": [
      "\u001b[1;31m---------------------------------------------------------------------------\u001b[0m",
      "\u001b[1;31mNameError\u001b[0m                                 Traceback (most recent call last)",
      "\u001b[1;32m<ipython-input-29-233c90e51ed1>\u001b[0m in \u001b[0;36m<module>\u001b[1;34m\u001b[0m\n\u001b[0;32m      1\u001b[0m \u001b[0mfont_path\u001b[0m \u001b[1;33m=\u001b[0m \u001b[1;34m'C:\\Windows\\Fonts\\HYGTRE.ttf'\u001b[0m\u001b[1;33m\u001b[0m\u001b[1;33m\u001b[0m\u001b[0m\n\u001b[1;32m----> 2\u001b[1;33m \u001b[0mwc\u001b[0m \u001b[1;33m=\u001b[0m \u001b[0mWordCloud\u001b[0m\u001b[1;33m(\u001b[0m\u001b[0mfont_path\u001b[0m \u001b[1;33m=\u001b[0m \u001b[0mfont_path\u001b[0m\u001b[1;33m,\u001b[0m \u001b[0mrelative_scaling\u001b[0m \u001b[1;33m=\u001b[0m \u001b[1;36m0.2\u001b[0m\u001b[1;33m,\u001b[0m \u001b[0mmask\u001b[0m \u001b[1;33m=\u001b[0m \u001b[0mpix\u001b[0m\u001b[1;33m,\u001b[0m \u001b[0mbackground_color\u001b[0m \u001b[1;33m=\u001b[0m \u001b[1;34m'white'\u001b[0m\u001b[1;33m,\u001b[0m \u001b[0mwidth\u001b[0m \u001b[1;33m=\u001b[0m \u001b[1;36m800\u001b[0m\u001b[1;33m,\u001b[0m \u001b[0mheight\u001b[0m \u001b[1;33m=\u001b[0m \u001b[1;36m600\u001b[0m\u001b[1;33m)\u001b[0m\u001b[1;33m\u001b[0m\u001b[1;33m\u001b[0m\u001b[0m\n\u001b[0m\u001b[0;32m      3\u001b[0m \u001b[0mcloud\u001b[0m \u001b[1;33m=\u001b[0m \u001b[0mwc\u001b[0m\u001b[1;33m.\u001b[0m\u001b[0mgenerate_from_frequencies\u001b[0m\u001b[1;33m(\u001b[0m\u001b[0mB\u001b[0m\u001b[1;33m)\u001b[0m\u001b[1;33m\u001b[0m\u001b[1;33m\u001b[0m\u001b[0m\n\u001b[0;32m      4\u001b[0m \u001b[0mplt\u001b[0m\u001b[1;33m.\u001b[0m\u001b[0mfigure\u001b[0m\u001b[1;33m(\u001b[0m\u001b[0mfigsize\u001b[0m\u001b[1;33m=\u001b[0m\u001b[1;33m(\u001b[0m\u001b[1;36m10\u001b[0m\u001b[1;33m,\u001b[0m \u001b[1;36m8\u001b[0m\u001b[1;33m)\u001b[0m\u001b[1;33m)\u001b[0m\u001b[1;33m\u001b[0m\u001b[1;33m\u001b[0m\u001b[0m\n\u001b[0;32m      5\u001b[0m \u001b[0mplt\u001b[0m\u001b[1;33m.\u001b[0m\u001b[0maxis\u001b[0m\u001b[1;33m(\u001b[0m\u001b[1;34m'off'\u001b[0m\u001b[1;33m)\u001b[0m\u001b[1;33m\u001b[0m\u001b[1;33m\u001b[0m\u001b[0m\n",
      "\u001b[1;31mNameError\u001b[0m: name 'pix' is not defined"
     ]
    }
   ],
   "source": [
    "font_path = 'C:\\Windows\\Fonts\\HYGTRE.ttf'\n",
    "wc = WordCloud(font_path = font_path, relative_scaling = 0.2, mask = pix, background_color = 'white', width = 800, height = 600)\n",
    "cloud = wc.generate_from_frequencies(B)\n",
    "plt.figure(figsize=(10, 8))\n",
    "plt.axis('off')\n",
    "plt.imshow(cloud, interpolation = 'bilinear')\n"
   ]
  }
 ],
 "metadata": {
  "kernelspec": {
   "display_name": "Python 3",
   "language": "python",
   "name": "python3"
  },
  "language_info": {
   "codemirror_mode": {
    "name": "ipython",
    "version": 3
   },
   "file_extension": ".py",
   "mimetype": "text/x-python",
   "name": "python",
   "nbconvert_exporter": "python",
   "pygments_lexer": "ipython3",
   "version": "3.7.6"
  }
 },
 "nbformat": 4,
 "nbformat_minor": 2
}
