{
 "cells": [
  {
   "cell_type": "code",
   "execution_count": 1,
   "metadata": {},
   "outputs": [],
   "source": [
    "import pandas as pd"
   ]
  },
  {
   "cell_type": "code",
   "execution_count": 3,
   "metadata": {},
   "outputs": [],
   "source": [
    "df_2019 = pd.read_excel('child_acc_19.xlsx')\n",
    "df_2018 = pd.read_excel('child_acc_18.xlsx')\n",
    "df_2017 = pd.read_excel('child_acc_17.xlsx')"
   ]
  },
  {
   "cell_type": "code",
   "execution_count": 51,
   "metadata": {},
   "outputs": [
    {
     "name": "stdout",
     "output_type": "stream",
     "text": [
      "전체피해 대비 사망비율 : 0.001\n",
      "---------------------------------\n",
      "사고당 부상자수 : 1.194467227607385\n"
     ]
    }
   ],
   "source": [
    "사망_2019 = df_2019['사망자수'].sum()\n",
    "부상_2019 = df_2019['부상자수'].sum()\n",
    "ratio1 = 사망_2019/(부상_2019+사망_2019)\n",
    "# ----------------------------------\n",
    "사망_2018 = df_2018['사망자수'].sum()\n",
    "부상_2018 = df_2018['부상자수'].sum()\n",
    "ratio2 = 사망_2018/(부상_2018+사망_2018)\n",
    "# ----------------------------------\n",
    "사망_2017 = df_2017['사망자수'].sum()\n",
    "부상_2017 = df_2017['부상자수'].sum()\n",
    "ratio3 = 사망_2017/(부상_2017+사망_2017)\n",
    "# ----------------------------------\n",
    "ratio4 = df_2019.loc[0,'부상자수']/df_2019.loc[0,'발생건수']\n",
    "ratio5 = df_2018.loc[0,'부상자수']/df_2018.loc[0,'발생건수']\n",
    "ratio6 = df_2017.loc[0,'부상자수']/df_2017.loc[0,'발생건수']\n",
    "print('전체피해 대비 사망비율 : {}'.format(round(((ratio1+ratio2+ratio3)/3), 3)))\n",
    "print('---------------------------------')\n",
    "print('사고당 부상자수 : {}'.format((ratio4+ratio5+ratio6)/3))"
   ]
  },
  {
   "cell_type": "code",
   "execution_count": 18,
   "metadata": {},
   "outputs": [],
   "source": []
  }
 ],
 "metadata": {
  "kernelspec": {
   "display_name": "Python 3",
   "language": "python",
   "name": "python3"
  },
  "language_info": {
   "codemirror_mode": {
    "name": "ipython",
    "version": 3
   },
   "file_extension": ".py",
   "mimetype": "text/x-python",
   "name": "python",
   "nbconvert_exporter": "python",
   "pygments_lexer": "ipython3",
   "version": "3.7.6"
  }
 },
 "nbformat": 4,
 "nbformat_minor": 2
}
