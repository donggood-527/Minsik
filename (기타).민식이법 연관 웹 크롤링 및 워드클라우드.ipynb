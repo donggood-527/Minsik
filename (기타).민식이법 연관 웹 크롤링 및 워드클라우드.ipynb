{
 "cells": [
  {
   "cell_type": "code",
   "execution_count": 1,
   "metadata": {},
   "outputs": [],
   "source": [
    "import pandas as pd \n",
    "\n",
    "df = pd.read_csv('naver_news_민식이법_1.csv')"
   ]
  },
  {
   "cell_type": "code",
   "execution_count": 2,
   "metadata": {},
   "outputs": [
    {
     "data": {
      "text/html": [
       "<div>\n",
       "<style scoped>\n",
       "    .dataframe tbody tr th:only-of-type {\n",
       "        vertical-align: middle;\n",
       "    }\n",
       "\n",
       "    .dataframe tbody tr th {\n",
       "        vertical-align: top;\n",
       "    }\n",
       "\n",
       "    .dataframe thead th {\n",
       "        text-align: right;\n",
       "    }\n",
       "</style>\n",
       "<table border=\"1\" class=\"dataframe\">\n",
       "  <thead>\n",
       "    <tr style=\"text-align: right;\">\n",
       "      <th></th>\n",
       "      <th>Title</th>\n",
       "      <th>content</th>\n",
       "      <th>Date</th>\n",
       "      <th>Source</th>\n",
       "      <th>Link</th>\n",
       "      <th>tokens</th>\n",
       "    </tr>\n",
       "  </thead>\n",
       "  <tbody>\n",
       "    <tr>\n",
       "      <th>0</th>\n",
       "      <td>이한기전북도의원\"민식이법선제적대응방안마련해야\"</td>\n",
       "      <td>0</td>\n",
       "      <td>뉴스1</td>\n",
       "      <td>https://www.news1.kr/articles/?3997543</td>\n",
       "      <td>0.0</td>\n",
       "      <td>이한기,전북,의원,선제,응방,마련,해야</td>\n",
       "    </tr>\n",
       "    <tr>\n",
       "      <th>1</th>\n",
       "      <td>부산첫민식이법적용운전자에벌금500만원집행유예</td>\n",
       "      <td>0</td>\n",
       "      <td>연합뉴스</td>\n",
       "      <td>http://yna.kr/AKR20200715060400051?did=1195m</td>\n",
       "      <td>0.0</td>\n",
       "      <td>벌금,500,집행유예</td>\n",
       "    </tr>\n",
       "    <tr>\n",
       "      <th>2</th>\n",
       "      <td>부산첫민식이법적용운전자에벌금형집행유예</td>\n",
       "      <td>0</td>\n",
       "      <td>KBS</td>\n",
       "      <td>http://news.kbs.co.kr/news/view.do?ncd=4495352...</td>\n",
       "      <td>0.0</td>\n",
       "      <td>벌금형,집행유예</td>\n",
       "    </tr>\n",
       "    <tr>\n",
       "      <th>3</th>\n",
       "      <td>해운대스쿨존12차사고운전자모두민식이법적용</td>\n",
       "      <td>2일 전  네이버뉴</td>\n",
       "      <td>SBS</td>\n",
       "      <td>https://news.sbs.co.kr/news/endPage.do?news_id...</td>\n",
       "      <td>0.0</td>\n",
       "      <td>12,사고,모두</td>\n",
       "    </tr>\n",
       "    <tr>\n",
       "      <th>4</th>\n",
       "      <td>해운대6세사망,불법좌회전돌진둘다민식이법적용</td>\n",
       "      <td>0</td>\n",
       "      <td>중앙일보</td>\n",
       "      <td>https://news.joins.com/article/olink/23417721</td>\n",
       "      <td>0.0</td>\n",
       "      <td>불법,좌회전,돌진,다민</td>\n",
       "    </tr>\n",
       "  </tbody>\n",
       "</table>\n",
       "</div>"
      ],
      "text/plain": [
       "                       Title     content  Date  \\\n",
       "0  이한기전북도의원\"민식이법선제적대응방안마련해야\"           0   뉴스1   \n",
       "1   부산첫민식이법적용운전자에벌금500만원집행유예           0  연합뉴스   \n",
       "2       부산첫민식이법적용운전자에벌금형집행유예           0   KBS   \n",
       "3     해운대스쿨존12차사고운전자모두민식이법적용  2일 전  네이버뉴   SBS   \n",
       "4    해운대6세사망,불법좌회전돌진둘다민식이법적용           0  중앙일보   \n",
       "\n",
       "                                              Source  Link  \\\n",
       "0             https://www.news1.kr/articles/?3997543   0.0   \n",
       "1       http://yna.kr/AKR20200715060400051?did=1195m   0.0   \n",
       "2  http://news.kbs.co.kr/news/view.do?ncd=4495352...   0.0   \n",
       "3  https://news.sbs.co.kr/news/endPage.do?news_id...   0.0   \n",
       "4      https://news.joins.com/article/olink/23417721   0.0   \n",
       "\n",
       "                  tokens  \n",
       "0  이한기,전북,의원,선제,응방,마련,해야  \n",
       "1            벌금,500,집행유예  \n",
       "2               벌금형,집행유예  \n",
       "3               12,사고,모두  \n",
       "4           불법,좌회전,돌진,다민  "
      ]
     },
     "execution_count": 2,
     "metadata": {},
     "output_type": "execute_result"
    }
   ],
   "source": [
    "df.head()"
   ]
  },
  {
   "cell_type": "code",
   "execution_count": 3,
   "metadata": {},
   "outputs": [],
   "source": [
    "import re\n",
    "\n",
    "def pre_process(text):\n",
    "    # 특수 기호 삭제\n",
    "    text = re.sub('[^a-zA-z0-9가-힣ㄱ-ㅎㅏ-ㅣ.,\"\"\"%@]', '',text).strip()\n",
    "    # 이메일 등장하면, 그 뒷문장 모두 삭제\n",
    "    text = re.sub('[a-zA-Z0-9] + \\@[a-zA-Z0-9]+\\.[a-z]{1,3}.[a-z]{1,3}.+', '',text).strip()\n",
    "    text = text.replace('\\d+', '')\n",
    "    \n",
    "    return text"
   ]
  },
  {
   "cell_type": "code",
   "execution_count": 4,
   "metadata": {},
   "outputs": [
    {
     "data": {
      "text/html": [
       "<div>\n",
       "<style scoped>\n",
       "    .dataframe tbody tr th:only-of-type {\n",
       "        vertical-align: middle;\n",
       "    }\n",
       "\n",
       "    .dataframe tbody tr th {\n",
       "        vertical-align: top;\n",
       "    }\n",
       "\n",
       "    .dataframe thead th {\n",
       "        text-align: right;\n",
       "    }\n",
       "</style>\n",
       "<table border=\"1\" class=\"dataframe\">\n",
       "  <thead>\n",
       "    <tr style=\"text-align: right;\">\n",
       "      <th></th>\n",
       "      <th>Title</th>\n",
       "      <th>content</th>\n",
       "      <th>Date</th>\n",
       "      <th>Source</th>\n",
       "      <th>Link</th>\n",
       "      <th>tokens</th>\n",
       "    </tr>\n",
       "  </thead>\n",
       "  <tbody>\n",
       "    <tr>\n",
       "      <th>0</th>\n",
       "      <td>이한기전북도의원\"민식이법선제적대응방안마련해야\"</td>\n",
       "      <td>0</td>\n",
       "      <td>뉴스1</td>\n",
       "      <td>https://www.news1.kr/articles/?3997543</td>\n",
       "      <td>0.0</td>\n",
       "      <td>이한기,전북,의원,선제,응방,마련,해야</td>\n",
       "    </tr>\n",
       "    <tr>\n",
       "      <th>1</th>\n",
       "      <td>부산첫민식이법적용운전자에벌금500만원집행유예</td>\n",
       "      <td>0</td>\n",
       "      <td>연합뉴스</td>\n",
       "      <td>http://yna.kr/AKR20200715060400051?did=1195m</td>\n",
       "      <td>0.0</td>\n",
       "      <td>벌금,500,집행유예</td>\n",
       "    </tr>\n",
       "    <tr>\n",
       "      <th>2</th>\n",
       "      <td>부산첫민식이법적용운전자에벌금형집행유예</td>\n",
       "      <td>0</td>\n",
       "      <td>KBS</td>\n",
       "      <td>http://news.kbs.co.kr/news/view.do?ncd=4495352...</td>\n",
       "      <td>0.0</td>\n",
       "      <td>벌금형,집행유예</td>\n",
       "    </tr>\n",
       "    <tr>\n",
       "      <th>3</th>\n",
       "      <td>해운대스쿨존12차사고운전자모두민식이법적용</td>\n",
       "      <td>2일 전  네이버뉴</td>\n",
       "      <td>SBS</td>\n",
       "      <td>https://news.sbs.co.kr/news/endPage.do?news_id...</td>\n",
       "      <td>0.0</td>\n",
       "      <td>12,사고,모두</td>\n",
       "    </tr>\n",
       "    <tr>\n",
       "      <th>4</th>\n",
       "      <td>해운대6세사망,불법좌회전돌진둘다민식이법적용</td>\n",
       "      <td>0</td>\n",
       "      <td>중앙일보</td>\n",
       "      <td>https://news.joins.com/article/olink/23417721</td>\n",
       "      <td>0.0</td>\n",
       "      <td>불법,좌회전,돌진,다민</td>\n",
       "    </tr>\n",
       "  </tbody>\n",
       "</table>\n",
       "</div>"
      ],
      "text/plain": [
       "                       Title     content  Date  \\\n",
       "0  이한기전북도의원\"민식이법선제적대응방안마련해야\"           0   뉴스1   \n",
       "1   부산첫민식이법적용운전자에벌금500만원집행유예           0  연합뉴스   \n",
       "2       부산첫민식이법적용운전자에벌금형집행유예           0   KBS   \n",
       "3     해운대스쿨존12차사고운전자모두민식이법적용  2일 전  네이버뉴   SBS   \n",
       "4    해운대6세사망,불법좌회전돌진둘다민식이법적용           0  중앙일보   \n",
       "\n",
       "                                              Source  Link  \\\n",
       "0             https://www.news1.kr/articles/?3997543   0.0   \n",
       "1       http://yna.kr/AKR20200715060400051?did=1195m   0.0   \n",
       "2  http://news.kbs.co.kr/news/view.do?ncd=4495352...   0.0   \n",
       "3  https://news.sbs.co.kr/news/endPage.do?news_id...   0.0   \n",
       "4      https://news.joins.com/article/olink/23417721   0.0   \n",
       "\n",
       "                  tokens  \n",
       "0  이한기,전북,의원,선제,응방,마련,해야  \n",
       "1            벌금,500,집행유예  \n",
       "2               벌금형,집행유예  \n",
       "3               12,사고,모두  \n",
       "4           불법,좌회전,돌진,다민  "
      ]
     },
     "execution_count": 4,
     "metadata": {},
     "output_type": "execute_result"
    }
   ],
   "source": [
    "df['Title'] = df['Title'].map(lambda x : pre_process(x))\n",
    "df.head()"
   ]
  },
  {
   "cell_type": "code",
   "execution_count": 5,
   "metadata": {
    "collapsed": true
   },
   "outputs": [
    {
     "data": {
      "text/html": [
       "<div>\n",
       "<style scoped>\n",
       "    .dataframe tbody tr th:only-of-type {\n",
       "        vertical-align: middle;\n",
       "    }\n",
       "\n",
       "    .dataframe tbody tr th {\n",
       "        vertical-align: top;\n",
       "    }\n",
       "\n",
       "    .dataframe thead th {\n",
       "        text-align: right;\n",
       "    }\n",
       "</style>\n",
       "<table border=\"1\" class=\"dataframe\">\n",
       "  <thead>\n",
       "    <tr style=\"text-align: right;\">\n",
       "      <th></th>\n",
       "      <th>Title</th>\n",
       "      <th>content</th>\n",
       "      <th>Date</th>\n",
       "      <th>Source</th>\n",
       "      <th>Link</th>\n",
       "      <th>tokens</th>\n",
       "    </tr>\n",
       "  </thead>\n",
       "  <tbody>\n",
       "    <tr>\n",
       "      <th>0</th>\n",
       "      <td>이한기전북도의원\"민식이법선제적대응방안마련해야\"</td>\n",
       "      <td>0</td>\n",
       "      <td>뉴스1</td>\n",
       "      <td>https://www.news1.kr/articles/?3997543</td>\n",
       "      <td>0.0</td>\n",
       "      <td>이한기,전북,의원,선제,응방,마련,해야</td>\n",
       "    </tr>\n",
       "    <tr>\n",
       "      <th>1</th>\n",
       "      <td>부산첫민식이법적용운전자에벌금500만원집행유예</td>\n",
       "      <td>0</td>\n",
       "      <td>연합뉴스</td>\n",
       "      <td>http://yna.kr/AKR20200715060400051?did=1195m</td>\n",
       "      <td>0.0</td>\n",
       "      <td>벌금,500,집행유예</td>\n",
       "    </tr>\n",
       "    <tr>\n",
       "      <th>2</th>\n",
       "      <td>부산첫민식이법적용운전자에벌금형집행유예</td>\n",
       "      <td>0</td>\n",
       "      <td>KBS</td>\n",
       "      <td>http://news.kbs.co.kr/news/view.do?ncd=4495352...</td>\n",
       "      <td>0.0</td>\n",
       "      <td>벌금형,집행유예</td>\n",
       "    </tr>\n",
       "    <tr>\n",
       "      <th>3</th>\n",
       "      <td>해운대스쿨존12차사고운전자모두민식이법적용</td>\n",
       "      <td>2일 전  네이버뉴</td>\n",
       "      <td>SBS</td>\n",
       "      <td>https://news.sbs.co.kr/news/endPage.do?news_id...</td>\n",
       "      <td>0.0</td>\n",
       "      <td>12,사고,모두</td>\n",
       "    </tr>\n",
       "    <tr>\n",
       "      <th>4</th>\n",
       "      <td>해운대6세사망,불법좌회전돌진둘다민식이법적용</td>\n",
       "      <td>0</td>\n",
       "      <td>중앙일보</td>\n",
       "      <td>https://news.joins.com/article/olink/23417721</td>\n",
       "      <td>0.0</td>\n",
       "      <td>불법,좌회전,돌진,다민</td>\n",
       "    </tr>\n",
       "    <tr>\n",
       "      <th>...</th>\n",
       "      <td>...</td>\n",
       "      <td>...</td>\n",
       "      <td>...</td>\n",
       "      <td>...</td>\n",
       "      <td>...</td>\n",
       "      <td>...</td>\n",
       "    </tr>\n",
       "    <tr>\n",
       "      <th>495</th>\n",
       "      <td>6세숨졌는데기억안난다는운전자민식이법적용되나</td>\n",
       "      <td>2020.06.16</td>\n",
       "      <td>국민일보</td>\n",
       "      <td>http://news.kmib.co.kr/article/view.asp?arcid=...</td>\n",
       "      <td>0.0</td>\n",
       "      <td>숨졌,는데,기억,난다는,운전,자민</td>\n",
       "    </tr>\n",
       "    <tr>\n",
       "      <th>496</th>\n",
       "      <td>민식이아빠\"7억원요구불륜설모두거짓\"유튜버고소</td>\n",
       "      <td>2020.05.15</td>\n",
       "      <td>매일신문</td>\n",
       "      <td>https://news.imaeil.com/Society/20200515111959...</td>\n",
       "      <td>0.0</td>\n",
       "      <td>아빠,요구불,모두,거짓,튜버,고소</td>\n",
       "    </tr>\n",
       "    <tr>\n",
       "      <th>497</th>\n",
       "      <td>민식이법우려에경찰청행정역량집중</td>\n",
       "      <td>2020.04.05</td>\n",
       "      <td>서울경제</td>\n",
       "      <td>https://www.sedaily.com/NewsView/1Z1CUW4I7Y</td>\n",
       "      <td>0.0</td>\n",
       "      <td>우려,경찰청,행정,역량,집중</td>\n",
       "    </tr>\n",
       "    <tr>\n",
       "      <th>498</th>\n",
       "      <td>,민식이법개정청원관련\"입법취지이해해달라\"</td>\n",
       "      <td>2020.05.20</td>\n",
       "      <td>MBC</td>\n",
       "      <td>https://imnews.imbc.com/news/2020/politics/art...</td>\n",
       "      <td>0.0</td>\n",
       "      <td>개정,청원,관련,입법,취지,이해</td>\n",
       "    </tr>\n",
       "    <tr>\n",
       "      <th>499</th>\n",
       "      <td>민식이법에운전자보험가입급증...\"벌금중복보상못받는다\"</td>\n",
       "      <td>2020.05.18</td>\n",
       "      <td>YTN</td>\n",
       "      <td>https://www.ytn.co.kr/_ln/0102_202005181605235814</td>\n",
       "      <td>0.0</td>\n",
       "      <td>급증,..\",벌금,중복,보상,는다</td>\n",
       "    </tr>\n",
       "  </tbody>\n",
       "</table>\n",
       "<p>500 rows × 6 columns</p>\n",
       "</div>"
      ],
      "text/plain": [
       "                             Title     content  Date  \\\n",
       "0        이한기전북도의원\"민식이법선제적대응방안마련해야\"           0   뉴스1   \n",
       "1         부산첫민식이법적용운전자에벌금500만원집행유예           0  연합뉴스   \n",
       "2             부산첫민식이법적용운전자에벌금형집행유예           0   KBS   \n",
       "3           해운대스쿨존12차사고운전자모두민식이법적용  2일 전  네이버뉴   SBS   \n",
       "4          해운대6세사망,불법좌회전돌진둘다민식이법적용           0  중앙일보   \n",
       "..                             ...         ...   ...   \n",
       "495        6세숨졌는데기억안난다는운전자민식이법적용되나  2020.06.16  국민일보   \n",
       "496       민식이아빠\"7억원요구불륜설모두거짓\"유튜버고소  2020.05.15  매일신문   \n",
       "497               민식이법우려에경찰청행정역량집중  2020.04.05  서울경제   \n",
       "498         ,민식이법개정청원관련\"입법취지이해해달라\"  2020.05.20   MBC   \n",
       "499  민식이법에운전자보험가입급증...\"벌금중복보상못받는다\"  2020.05.18   YTN   \n",
       "\n",
       "                                                Source  Link  \\\n",
       "0               https://www.news1.kr/articles/?3997543   0.0   \n",
       "1         http://yna.kr/AKR20200715060400051?did=1195m   0.0   \n",
       "2    http://news.kbs.co.kr/news/view.do?ncd=4495352...   0.0   \n",
       "3    https://news.sbs.co.kr/news/endPage.do?news_id...   0.0   \n",
       "4        https://news.joins.com/article/olink/23417721   0.0   \n",
       "..                                                 ...   ...   \n",
       "495  http://news.kmib.co.kr/article/view.asp?arcid=...   0.0   \n",
       "496  https://news.imaeil.com/Society/20200515111959...   0.0   \n",
       "497        https://www.sedaily.com/NewsView/1Z1CUW4I7Y   0.0   \n",
       "498  https://imnews.imbc.com/news/2020/politics/art...   0.0   \n",
       "499  https://www.ytn.co.kr/_ln/0102_202005181605235814   0.0   \n",
       "\n",
       "                    tokens  \n",
       "0    이한기,전북,의원,선제,응방,마련,해야  \n",
       "1              벌금,500,집행유예  \n",
       "2                 벌금형,집행유예  \n",
       "3                 12,사고,모두  \n",
       "4             불법,좌회전,돌진,다민  \n",
       "..                     ...  \n",
       "495     숨졌,는데,기억,난다는,운전,자민  \n",
       "496     아빠,요구불,모두,거짓,튜버,고소  \n",
       "497        우려,경찰청,행정,역량,집중  \n",
       "498      개정,청원,관련,입법,취지,이해  \n",
       "499     급증,..\",벌금,중복,보상,는다  \n",
       "\n",
       "[500 rows x 6 columns]"
      ]
     },
     "execution_count": 5,
     "metadata": {},
     "output_type": "execute_result"
    }
   ],
   "source": [
    "df = df.fillna(value = 0)\n",
    "df"
   ]
  },
  {
   "cell_type": "code",
   "execution_count": 7,
   "metadata": {
    "collapsed": true
   },
   "outputs": [
    {
     "ename": "ModuleNotFoundError",
     "evalue": "No module named 'konlpy'",
     "output_type": "error",
     "traceback": [
      "\u001b[1;31m---------------------------------------------------------------------------\u001b[0m",
      "\u001b[1;31mModuleNotFoundError\u001b[0m                       Traceback (most recent call last)",
      "\u001b[1;32m<ipython-input-7-83eaeea4d56e>\u001b[0m in \u001b[0;36m<module>\u001b[1;34m\u001b[0m\n\u001b[0;32m      3\u001b[0m              \u001b[1;34m'고운'\u001b[0m\u001b[1;33m,\u001b[0m \u001b[1;34m'경주'\u001b[0m\u001b[1;33m,\u001b[0m \u001b[1;34m'망사'\u001b[0m\u001b[1;33m,\u001b[0m \u001b[1;34m'적용'\u001b[0m\u001b[1;33m,\u001b[0m \u001b[1;34m'보험'\u001b[0m\u001b[1;33m,\u001b[0m \u001b[1;34m'해운대'\u001b[0m\u001b[1;33m,\u001b[0m \u001b[1;34m'시행'\u001b[0m\u001b[1;33m,\u001b[0m \u001b[1;34m'가입'\u001b[0m\u001b[1;33m,\u001b[0m \u001b[1;34m'어린이'\u001b[0m\u001b[1;33m,\u001b[0m \u001b[1;34m'아이'\u001b[0m\u001b[1;33m,\u001b[0m \u001b[1;34m'제주'\u001b[0m\u001b[1;33m,\u001b[0m \u001b[1;34m'사망'\u001b[0m\u001b[1;33m,\u001b[0m \u001b[1;34m'노선'\u001b[0m\u001b[1;33m,\u001b[0m\u001b[1;33m\u001b[0m\u001b[1;33m\u001b[0m\u001b[0m\n\u001b[0;32m      4\u001b[0m              '고민식', '버스', '변경']\n\u001b[1;32m----> 5\u001b[1;33m \u001b[1;32mfrom\u001b[0m \u001b[0mkonlpy\u001b[0m\u001b[1;33m.\u001b[0m\u001b[0mtag\u001b[0m \u001b[1;32mimport\u001b[0m \u001b[0mMecab\u001b[0m\u001b[1;33m\u001b[0m\u001b[1;33m\u001b[0m\u001b[0m\n\u001b[0m\u001b[0;32m      6\u001b[0m \u001b[1;32mdef\u001b[0m \u001b[0mpostagging_mecab\u001b[0m\u001b[1;33m(\u001b[0m\u001b[0mtext\u001b[0m\u001b[1;33m)\u001b[0m\u001b[1;33m:\u001b[0m\u001b[1;33m\u001b[0m\u001b[1;33m\u001b[0m\u001b[0m\n\u001b[0;32m      7\u001b[0m     \u001b[0mmecab\u001b[0m \u001b[1;33m=\u001b[0m \u001b[0mMecab\u001b[0m\u001b[1;33m(\u001b[0m\u001b[1;33m)\u001b[0m\u001b[1;33m\u001b[0m\u001b[1;33m\u001b[0m\u001b[0m\n",
      "\u001b[1;31mModuleNotFoundError\u001b[0m: No module named 'konlpy'"
     ]
    }
   ],
   "source": [
    "stop_word = ['에서', '습니다', '민식이법', '김민식', '으로', '에게', '부터', '입니다', '는데요', '당시', '다고', '합니다', '따라',\n",
    "             '식이', '스쿨', '운전자', '이법', '존서', '고운', '존사', '100', '까지', '전자', '..', '법위', '전주', '부산', \n",
    "             '고운', '경주', '망사', '적용', '보험', '해운대', '시행', '가입', '어린이', '아이', '제주', '사망', '노선',\n",
    "             '고민식', '버스', '변경']\n",
    "from konlpy.tag import Mecab\n",
    "def postagging_mecab(text):\n",
    "    mecab = Mecab()\n",
    "    text = mecab.morphs(text)\n",
    "    text = [i for i in text if len(i)>1]\n",
    "    text = [i for i in text if i not in stop_word]\n",
    "    return text"
   ]
  },
  {
   "cell_type": "code",
   "execution_count": 29,
   "metadata": {},
   "outputs": [],
   "source": [
    "def make_tokens(df, filename):\n",
    "    df['tokens'] = ''\n",
    "    tokens_list = []\n",
    "    for i, row in df.iterrows():\n",
    "        if i % 100 == 0 :\n",
    "            print(i, '/', len(df))\n",
    "        token = postagging_mecab(df['Title'][i])\n",
    "        df['tokens'][i] = ','.join(token)\n",
    "    df.to_csv(filename, index = False)\n",
    "    return df"
   ]
  },
  {
   "cell_type": "code",
   "execution_count": 30,
   "metadata": {},
   "outputs": [
    {
     "name": "stdout",
     "output_type": "stream",
     "text": [
      "0 / 500\n"
     ]
    },
    {
     "name": "stderr",
     "output_type": "stream",
     "text": [
      "C:\\ProgramData\\Anaconda3\\lib\\site-packages\\ipykernel_launcher.py:8: SettingWithCopyWarning: \n",
      "A value is trying to be set on a copy of a slice from a DataFrame\n",
      "\n",
      "See the caveats in the documentation: http://pandas.pydata.org/pandas-docs/stable/user_guide/indexing.html#returning-a-view-versus-a-copy\n",
      "  \n"
     ]
    },
    {
     "name": "stdout",
     "output_type": "stream",
     "text": [
      "100 / 500\n",
      "200 / 500\n",
      "300 / 500\n",
      "400 / 500\n"
     ]
    }
   ],
   "source": [
    "df = make_tokens(df, 'news_data.csv')"
   ]
  },
  {
   "cell_type": "code",
   "execution_count": 31,
   "metadata": {
    "scrolled": true
   },
   "outputs": [
    {
     "data": {
      "text/html": [
       "<div>\n",
       "<style scoped>\n",
       "    .dataframe tbody tr th:only-of-type {\n",
       "        vertical-align: middle;\n",
       "    }\n",
       "\n",
       "    .dataframe tbody tr th {\n",
       "        vertical-align: top;\n",
       "    }\n",
       "\n",
       "    .dataframe thead th {\n",
       "        text-align: right;\n",
       "    }\n",
       "</style>\n",
       "<table border=\"1\" class=\"dataframe\">\n",
       "  <thead>\n",
       "    <tr style=\"text-align: right;\">\n",
       "      <th></th>\n",
       "      <th>Title</th>\n",
       "      <th>content</th>\n",
       "      <th>Date</th>\n",
       "      <th>Source</th>\n",
       "      <th>Link</th>\n",
       "      <th>tokens</th>\n",
       "    </tr>\n",
       "  </thead>\n",
       "  <tbody>\n",
       "    <tr>\n",
       "      <td>0</td>\n",
       "      <td>이한기전북도의원\"민식이법선제적대응방안마련해야\"</td>\n",
       "      <td>0</td>\n",
       "      <td>뉴스1</td>\n",
       "      <td>https://www.news1.kr/articles/?3997543</td>\n",
       "      <td>0.0</td>\n",
       "      <td>이한기,전북,의원,선제,응방,마련,해야</td>\n",
       "    </tr>\n",
       "    <tr>\n",
       "      <td>1</td>\n",
       "      <td>부산첫민식이법적용운전자에벌금500만원집행유예</td>\n",
       "      <td>0</td>\n",
       "      <td>연합뉴스</td>\n",
       "      <td>http://yna.kr/AKR20200715060400051?did=1195m</td>\n",
       "      <td>0.0</td>\n",
       "      <td>벌금,500,집행유예</td>\n",
       "    </tr>\n",
       "    <tr>\n",
       "      <td>2</td>\n",
       "      <td>부산첫민식이법적용운전자에벌금형집행유예</td>\n",
       "      <td>0</td>\n",
       "      <td>KBS</td>\n",
       "      <td>http://news.kbs.co.kr/news/view.do?ncd=4495352...</td>\n",
       "      <td>0.0</td>\n",
       "      <td>벌금형,집행유예</td>\n",
       "    </tr>\n",
       "    <tr>\n",
       "      <td>3</td>\n",
       "      <td>해운대스쿨존12차사고운전자모두민식이법적용</td>\n",
       "      <td>2일 전  네이버뉴</td>\n",
       "      <td>SBS</td>\n",
       "      <td>https://news.sbs.co.kr/news/endPage.do?news_id...</td>\n",
       "      <td>0.0</td>\n",
       "      <td>12,사고,모두</td>\n",
       "    </tr>\n",
       "    <tr>\n",
       "      <td>4</td>\n",
       "      <td>해운대6세사망,불법좌회전돌진둘다민식이법적용</td>\n",
       "      <td>0</td>\n",
       "      <td>중앙일보</td>\n",
       "      <td>https://news.joins.com/article/olink/23417721</td>\n",
       "      <td>0.0</td>\n",
       "      <td>불법,좌회전,돌진,다민</td>\n",
       "    </tr>\n",
       "  </tbody>\n",
       "</table>\n",
       "</div>"
      ],
      "text/plain": [
       "                       Title     content  Date  \\\n",
       "0  이한기전북도의원\"민식이법선제적대응방안마련해야\"           0   뉴스1   \n",
       "1   부산첫민식이법적용운전자에벌금500만원집행유예           0  연합뉴스   \n",
       "2       부산첫민식이법적용운전자에벌금형집행유예           0   KBS   \n",
       "3     해운대스쿨존12차사고운전자모두민식이법적용  2일 전  네이버뉴   SBS   \n",
       "4    해운대6세사망,불법좌회전돌진둘다민식이법적용           0  중앙일보   \n",
       "\n",
       "                                              Source  Link  \\\n",
       "0             https://www.news1.kr/articles/?3997543   0.0   \n",
       "1       http://yna.kr/AKR20200715060400051?did=1195m   0.0   \n",
       "2  http://news.kbs.co.kr/news/view.do?ncd=4495352...   0.0   \n",
       "3  https://news.sbs.co.kr/news/endPage.do?news_id...   0.0   \n",
       "4      https://news.joins.com/article/olink/23417721   0.0   \n",
       "\n",
       "                  tokens  \n",
       "0  이한기,전북,의원,선제,응방,마련,해야  \n",
       "1            벌금,500,집행유예  \n",
       "2               벌금형,집행유예  \n",
       "3               12,사고,모두  \n",
       "4           불법,좌회전,돌진,다민  "
      ]
     },
     "execution_count": 31,
     "metadata": {},
     "output_type": "execute_result"
    }
   ],
   "source": [
    "df.head()"
   ]
  },
  {
   "cell_type": "code",
   "execution_count": 32,
   "metadata": {},
   "outputs": [
    {
     "data": {
      "text/html": [
       "<div>\n",
       "<style scoped>\n",
       "    .dataframe tbody tr th:only-of-type {\n",
       "        vertical-align: middle;\n",
       "    }\n",
       "\n",
       "    .dataframe tbody tr th {\n",
       "        vertical-align: top;\n",
       "    }\n",
       "\n",
       "    .dataframe thead th {\n",
       "        text-align: right;\n",
       "    }\n",
       "</style>\n",
       "<table border=\"1\" class=\"dataframe\">\n",
       "  <thead>\n",
       "    <tr style=\"text-align: right;\">\n",
       "      <th></th>\n",
       "      <th>index</th>\n",
       "      <th>total</th>\n",
       "    </tr>\n",
       "  </thead>\n",
       "  <tbody>\n",
       "    <tr>\n",
       "      <td>0</td>\n",
       "      <td>사고</td>\n",
       "      <td>70</td>\n",
       "    </tr>\n",
       "    <tr>\n",
       "      <td>1</td>\n",
       "      <td>구속</td>\n",
       "      <td>56</td>\n",
       "    </tr>\n",
       "    <tr>\n",
       "      <td>2</td>\n",
       "      <td>놀이</td>\n",
       "      <td>44</td>\n",
       "    </tr>\n",
       "    <tr>\n",
       "      <td>3</td>\n",
       "      <td>사례</td>\n",
       "      <td>30</td>\n",
       "    </tr>\n",
       "    <tr>\n",
       "      <td>4</td>\n",
       "      <td>면허</td>\n",
       "      <td>25</td>\n",
       "    </tr>\n",
       "    <tr>\n",
       "      <td>...</td>\n",
       "      <td>...</td>\n",
       "      <td>...</td>\n",
       "    </tr>\n",
       "    <tr>\n",
       "      <td>744</td>\n",
       "      <td>가민</td>\n",
       "      <td>1</td>\n",
       "    </tr>\n",
       "    <tr>\n",
       "      <td>745</td>\n",
       "      <td>정답</td>\n",
       "      <td>1</td>\n",
       "    </tr>\n",
       "    <tr>\n",
       "      <td>746</td>\n",
       "      <td>광주</td>\n",
       "      <td>1</td>\n",
       "    </tr>\n",
       "    <tr>\n",
       "      <td>747</td>\n",
       "      <td>경중</td>\n",
       "      <td>1</td>\n",
       "    </tr>\n",
       "    <tr>\n",
       "      <td>748</td>\n",
       "      <td>댓글</td>\n",
       "      <td>1</td>\n",
       "    </tr>\n",
       "  </tbody>\n",
       "</table>\n",
       "<p>749 rows × 2 columns</p>\n",
       "</div>"
      ],
      "text/plain": [
       "    index  total\n",
       "0      사고     70\n",
       "1      구속     56\n",
       "2      놀이     44\n",
       "3      사례     30\n",
       "4      면허     25\n",
       "..    ...    ...\n",
       "744    가민      1\n",
       "745    정답      1\n",
       "746    광주      1\n",
       "747    경중      1\n",
       "748    댓글      1\n",
       "\n",
       "[749 rows x 2 columns]"
      ]
     },
     "execution_count": 32,
     "metadata": {},
     "output_type": "execute_result"
    }
   ],
   "source": [
    "tokens = []\n",
    "for i in range(len(df)):\n",
    "    tokens += df['tokens'][i].split(',')\n",
    "    \n",
    "total = pd.DataFrame(tokens)\n",
    "total = pd.DataFrame(total[0].value_counts('')).rename(columns={0:'total'})\n",
    "total = total.reset_index()\n",
    "total"
   ]
  },
  {
   "cell_type": "code",
   "execution_count": 33,
   "metadata": {
    "collapsed": true
   },
   "outputs": [
    {
     "data": {
      "text/plain": [
       "{'사고': 70,\n",
       " '구속': 56,\n",
       " '놀이': 44,\n",
       " '사례': 30,\n",
       " '면허': 25,\n",
       " '우려': 24,\n",
       " '처벌': 21,\n",
       " '차량': 20,\n",
       " '30': 20,\n",
       " '논란': 19,\n",
       " '과속': 18,\n",
       " '초등': 17,\n",
       " '운전': 16,\n",
       " '경찰': 16,\n",
       " '벌금형': 15,\n",
       " '급증': 15,\n",
       " '촉발': 15}"
      ]
     },
     "execution_count": 33,
     "metadata": {},
     "output_type": "execute_result"
    }
   ],
   "source": [
    "index = []\n",
    "word = []\n",
    "for i in range(len(df)):\n",
    "    if total['total'][i] >= 15:\n",
    "        index.append(total['index'][i])\n",
    "        word.append(total['total'][i])\n",
    "B = dict(zip(index, word))\n",
    "B    "
   ]
  },
  {
   "cell_type": "code",
   "execution_count": 34,
   "metadata": {},
   "outputs": [
    {
     "data": {
      "text/plain": [
       "<matplotlib.image.AxesImage at 0x286f305f488>"
      ]
     },
     "execution_count": 34,
     "metadata": {},
     "output_type": "execute_result"
    },
    {
     "data": {
      "image/png": "[encoded data removed]",
      "text/plain": [
       "<Figure size 720x576 with 1 Axes>"
      ]
     },
     "metadata": {
      "needs_background": "light"
     },
     "output_type": "display_data"
    }
   ],
   "source": [
    "from wordcloud import WordCloud\n",
    "import matplotlib.pyplot as plt\n",
    "font_path = './font_name/malgun.ttf'\n",
    "wc = WordCloud(font_path = font_path, background_color = 'white', width = 800, height = 600)\n",
    "cloud = wc.generate_from_frequencies(B)\n",
    "plt.figure(figsize=(10, 8))\n",
    "plt.axis('off')\n",
    "plt.imshow(cloud)"
   ]
  },
  {
   "cell_type": "code",
   "execution_count": 17,
   "metadata": {
    "collapsed": true
   },
   "outputs": [
    {
     "ename": "FileNotFoundError",
     "evalue": "[Errno 2] No such file or directory: 'car_acc.png'",
     "output_type": "error",
     "traceback": [
      "\u001b[1;31m---------------------------------------------------------------------------\u001b[0m",
      "\u001b[1;31mFileNotFoundError\u001b[0m                         Traceback (most recent call last)",
      "\u001b[1;32m<ipython-input-17-9a031605994a>\u001b[0m in \u001b[0;36m<module>\u001b[1;34m\u001b[0m\n\u001b[0;32m      2\u001b[0m \u001b[1;32mimport\u001b[0m \u001b[0mnumpy\u001b[0m \u001b[1;32mas\u001b[0m \u001b[0mnp\u001b[0m\u001b[1;33m\u001b[0m\u001b[1;33m\u001b[0m\u001b[0m\n\u001b[0;32m      3\u001b[0m \u001b[1;33m\u001b[0m\u001b[0m\n\u001b[1;32m----> 4\u001b[1;33m \u001b[0mcar_mask\u001b[0m \u001b[1;33m=\u001b[0m \u001b[0mnp\u001b[0m\u001b[1;33m.\u001b[0m\u001b[0marray\u001b[0m\u001b[1;33m(\u001b[0m\u001b[0mImage\u001b[0m\u001b[1;33m.\u001b[0m\u001b[0mopen\u001b[0m\u001b[1;33m(\u001b[0m\u001b[1;34m\"car_acc.png\"\u001b[0m\u001b[1;33m)\u001b[0m\u001b[1;33m)\u001b[0m\u001b[1;33m\u001b[0m\u001b[1;33m\u001b[0m\u001b[0m\n\u001b[0m\u001b[0;32m      5\u001b[0m \u001b[1;33m\u001b[0m\u001b[0m\n\u001b[0;32m      6\u001b[0m wordcloud = WordCloud(\n",
      "\u001b[1;32mC:\\ProgramData\\Anaconda3\\lib\\site-packages\\PIL\\Image.py\u001b[0m in \u001b[0;36mopen\u001b[1;34m(fp, mode)\u001b[0m\n\u001b[0;32m   2764\u001b[0m \u001b[1;33m\u001b[0m\u001b[0m\n\u001b[0;32m   2765\u001b[0m     \u001b[1;32mif\u001b[0m \u001b[0mfilename\u001b[0m\u001b[1;33m:\u001b[0m\u001b[1;33m\u001b[0m\u001b[1;33m\u001b[0m\u001b[0m\n\u001b[1;32m-> 2766\u001b[1;33m         \u001b[0mfp\u001b[0m \u001b[1;33m=\u001b[0m \u001b[0mbuiltins\u001b[0m\u001b[1;33m.\u001b[0m\u001b[0mopen\u001b[0m\u001b[1;33m(\u001b[0m\u001b[0mfilename\u001b[0m\u001b[1;33m,\u001b[0m \u001b[1;34m\"rb\"\u001b[0m\u001b[1;33m)\u001b[0m\u001b[1;33m\u001b[0m\u001b[1;33m\u001b[0m\u001b[0m\n\u001b[0m\u001b[0;32m   2767\u001b[0m         \u001b[0mexclusive_fp\u001b[0m \u001b[1;33m=\u001b[0m \u001b[1;32mTrue\u001b[0m\u001b[1;33m\u001b[0m\u001b[1;33m\u001b[0m\u001b[0m\n\u001b[0;32m   2768\u001b[0m \u001b[1;33m\u001b[0m\u001b[0m\n",
      "\u001b[1;31mFileNotFoundError\u001b[0m: [Errno 2] No such file or directory: 'car_acc.png'"
     ]
    }
   ],
   "source": [
    "from PIL import Image\n",
    "import numpy as np\n",
    "\n",
    "car_mask = np.array(Image.open(\"car_acc.png\"))\n",
    "\n",
    "wordcloud = WordCloud(\n",
    "    font_path = font_path,\n",
    "    width = 800,\n",
    "    height = 800,\n",
    "    background_color = \"white\",\n",
    "    mask = car_mask\n",
    ")\n",
    "\n",
    "wordcloud = wordcloud.generate_from_frequencies(A)\n",
    "plt.figure(figsize=(10, 10))\n",
    "plt.imshow(wordcloud, interpolation = \"bilinear\")\n",
    "plt.axis(\"off\")\n",
    "plt.show()"
   ]
  },
  {
   "cell_type": "code",
   "execution_count": 19,
   "metadata": {
    "collapsed": true
   },
   "outputs": [
    {
     "ename": "FileNotFoundError",
     "evalue": "[Errno 2] No such file or directory: 'carc.png'",
     "output_type": "error",
     "traceback": [
      "\u001b[1;31m---------------------------------------------------------------------------\u001b[0m",
      "\u001b[1;31mFileNotFoundError\u001b[0m                         Traceback (most recent call last)",
      "\u001b[1;32m<ipython-input-19-33a22fb7b752>\u001b[0m in \u001b[0;36m<module>\u001b[1;34m\u001b[0m\n\u001b[0;32m      1\u001b[0m \u001b[1;32mimport\u001b[0m \u001b[0mnumpy\u001b[0m \u001b[1;32mas\u001b[0m \u001b[0mnp\u001b[0m\u001b[1;33m\u001b[0m\u001b[1;33m\u001b[0m\u001b[0m\n\u001b[0;32m      2\u001b[0m \u001b[1;32mimport\u001b[0m \u001b[0mPIL\u001b[0m\u001b[1;33m.\u001b[0m\u001b[0mImage\u001b[0m \u001b[1;32mas\u001b[0m \u001b[0mpilimg\u001b[0m\u001b[1;33m\u001b[0m\u001b[1;33m\u001b[0m\u001b[0m\n\u001b[1;32m----> 3\u001b[1;33m \u001b[0mim\u001b[0m \u001b[1;33m=\u001b[0m \u001b[0mpilimg\u001b[0m\u001b[1;33m.\u001b[0m\u001b[0mopen\u001b[0m\u001b[1;33m(\u001b[0m\u001b[1;34m'carc.png'\u001b[0m\u001b[1;33m)\u001b[0m\u001b[1;33m\u001b[0m\u001b[1;33m\u001b[0m\u001b[0m\n\u001b[0m\u001b[0;32m      4\u001b[0m \u001b[0mpix\u001b[0m \u001b[1;33m=\u001b[0m \u001b[0mnp\u001b[0m\u001b[1;33m.\u001b[0m\u001b[0marray\u001b[0m\u001b[1;33m(\u001b[0m\u001b[0mim\u001b[0m\u001b[1;33m)\u001b[0m\u001b[1;33m\u001b[0m\u001b[1;33m\u001b[0m\u001b[0m\n\u001b[0;32m      5\u001b[0m \u001b[1;32mfrom\u001b[0m \u001b[0mwordcloud\u001b[0m \u001b[1;32mimport\u001b[0m \u001b[0mImageColorGenerator\u001b[0m\u001b[1;33m\u001b[0m\u001b[1;33m\u001b[0m\u001b[0m\n",
      "\u001b[1;32mC:\\ProgramData\\Anaconda3\\lib\\site-packages\\PIL\\Image.py\u001b[0m in \u001b[0;36mopen\u001b[1;34m(fp, mode)\u001b[0m\n\u001b[0;32m   2764\u001b[0m \u001b[1;33m\u001b[0m\u001b[0m\n\u001b[0;32m   2765\u001b[0m     \u001b[1;32mif\u001b[0m \u001b[0mfilename\u001b[0m\u001b[1;33m:\u001b[0m\u001b[1;33m\u001b[0m\u001b[1;33m\u001b[0m\u001b[0m\n\u001b[1;32m-> 2766\u001b[1;33m         \u001b[0mfp\u001b[0m \u001b[1;33m=\u001b[0m \u001b[0mbuiltins\u001b[0m\u001b[1;33m.\u001b[0m\u001b[0mopen\u001b[0m\u001b[1;33m(\u001b[0m\u001b[0mfilename\u001b[0m\u001b[1;33m,\u001b[0m \u001b[1;34m\"rb\"\u001b[0m\u001b[1;33m)\u001b[0m\u001b[1;33m\u001b[0m\u001b[1;33m\u001b[0m\u001b[0m\n\u001b[0m\u001b[0;32m   2767\u001b[0m         \u001b[0mexclusive_fp\u001b[0m \u001b[1;33m=\u001b[0m \u001b[1;32mTrue\u001b[0m\u001b[1;33m\u001b[0m\u001b[1;33m\u001b[0m\u001b[0m\n\u001b[0;32m   2768\u001b[0m \u001b[1;33m\u001b[0m\u001b[0m\n",
      "\u001b[1;31mFileNotFoundError\u001b[0m: [Errno 2] No such file or directory: 'carc.png'"
     ]
    }
   ],
   "source": [
    "import numpy as np\n",
    "import PIL.Image as pilimg\n",
    "im = pilimg.open('carc.png')\n",
    "pix = np.array(im)\n",
    "from wordcloud import ImageColorGenerator"
   ]
  },
  {
   "cell_type": "code",
   "execution_count": 18,
   "metadata": {
    "collapsed": true
   },
   "outputs": [
    {
     "ename": "NameError",
     "evalue": "name 'pix' is not defined",
     "output_type": "error",
     "traceback": [
      "\u001b[1;31m---------------------------------------------------------------------------\u001b[0m",
      "\u001b[1;31mNameError\u001b[0m                                 Traceback (most recent call last)",
      "\u001b[1;32m<ipython-input-18-c55524d9bfa0>\u001b[0m in \u001b[0;36m<module>\u001b[1;34m\u001b[0m\n\u001b[0;32m      1\u001b[0m \u001b[0mfont_path\u001b[0m \u001b[1;33m=\u001b[0m \u001b[1;34m'./font_name/malgun.ttf'\u001b[0m\u001b[1;33m\u001b[0m\u001b[1;33m\u001b[0m\u001b[0m\n\u001b[1;32m----> 2\u001b[1;33m \u001b[0mwc\u001b[0m \u001b[1;33m=\u001b[0m \u001b[0mWordCloud\u001b[0m\u001b[1;33m(\u001b[0m\u001b[0mfont_path\u001b[0m \u001b[1;33m=\u001b[0m \u001b[0mfont_path\u001b[0m\u001b[1;33m,\u001b[0m \u001b[0mrelative_scaling\u001b[0m \u001b[1;33m=\u001b[0m \u001b[1;36m0.2\u001b[0m\u001b[1;33m,\u001b[0m \u001b[0mmask\u001b[0m \u001b[1;33m=\u001b[0m \u001b[0mpix\u001b[0m\u001b[1;33m,\u001b[0m \u001b[0mbackground_color\u001b[0m \u001b[1;33m=\u001b[0m \u001b[1;34m'white'\u001b[0m\u001b[1;33m,\u001b[0m \u001b[0mwidth\u001b[0m \u001b[1;33m=\u001b[0m \u001b[1;36m800\u001b[0m\u001b[1;33m,\u001b[0m \u001b[0mheight\u001b[0m \u001b[1;33m=\u001b[0m \u001b[1;36m600\u001b[0m\u001b[1;33m)\u001b[0m\u001b[1;33m\u001b[0m\u001b[1;33m\u001b[0m\u001b[0m\n\u001b[0m\u001b[0;32m      3\u001b[0m \u001b[0mcloud\u001b[0m \u001b[1;33m=\u001b[0m \u001b[0mwc\u001b[0m\u001b[1;33m.\u001b[0m\u001b[0mgenerate_from_frequencies\u001b[0m\u001b[1;33m(\u001b[0m\u001b[0mB\u001b[0m\u001b[1;33m)\u001b[0m\u001b[1;33m\u001b[0m\u001b[1;33m\u001b[0m\u001b[0m\n\u001b[0;32m      4\u001b[0m \u001b[0mplt\u001b[0m\u001b[1;33m.\u001b[0m\u001b[0mfigure\u001b[0m\u001b[1;33m(\u001b[0m\u001b[0mfigsize\u001b[0m\u001b[1;33m=\u001b[0m\u001b[1;33m(\u001b[0m\u001b[1;36m10\u001b[0m\u001b[1;33m,\u001b[0m \u001b[1;36m8\u001b[0m\u001b[1;33m)\u001b[0m\u001b[1;33m)\u001b[0m\u001b[1;33m\u001b[0m\u001b[1;33m\u001b[0m\u001b[0m\n\u001b[0;32m      5\u001b[0m \u001b[0mplt\u001b[0m\u001b[1;33m.\u001b[0m\u001b[0maxis\u001b[0m\u001b[1;33m(\u001b[0m\u001b[1;34m'off'\u001b[0m\u001b[1;33m)\u001b[0m\u001b[1;33m\u001b[0m\u001b[1;33m\u001b[0m\u001b[0m\n",
      "\u001b[1;31mNameError\u001b[0m: name 'pix' is not defined"
     ]
    }
   ],
   "source": [
    "font_path = './font_name/malgun.ttf'\n",
    "wc = WordCloud(font_path = font_path, relative_scaling = 0.2, mask = pix, background_color = 'white', width = 800, height = 600)\n",
    "cloud = wc.generate_from_frequencies(B)\n",
    "plt.figure(figsize=(10, 8))\n",
    "plt.axis('off')\n",
    "plt.imshow(cloud, interpolation = 'bilinear')"
   ]
  }
 ],
 "metadata": {
  "kernelspec": {
   "display_name": "Python 3",
   "language": "python",
   "name": "python3"
  },
  "language_info": {
   "codemirror_mode": {
    "name": "ipython",
    "version": 3
   },
   "file_extension": ".py",
   "mimetype": "text/x-python",
   "name": "python",
   "nbconvert_exporter": "python",
   "pygments_lexer": "ipython3",
   "version": "3.7.6"
  }
 },
 "nbformat": 4,
 "nbformat_minor": 2
}
